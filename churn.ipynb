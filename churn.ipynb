{
 "cells": [
  {
   "cell_type": "code",
   "execution_count": 2,
   "id": "059905e8-28f4-4b41-a259-7532c704dd7c",
   "metadata": {},
   "outputs": [],
   "source": [
    "import pandas as pd\n",
    "import numpy as np\n",
    "import seaborn as sns\n",
    "import matplotlib.pyplot as plt"
   ]
  },
  {
   "cell_type": "code",
   "execution_count": 3,
   "id": "f33c9d34-ce68-44c2-9dfe-207cd8a8a68a",
   "metadata": {},
   "outputs": [],
   "source": [
    "df = pd.read_csv('Telecum.csv')"
   ]
  },
  {
   "cell_type": "code",
   "execution_count": 5,
   "id": "cbfbd83a-ef74-46b3-b633-f99ac2efcccc",
   "metadata": {},
   "outputs": [],
   "source": [
    "# print(df.info())"
   ]
  },
  {
   "cell_type": "code",
   "execution_count": 6,
   "id": "be8352f0-5b8c-438c-820d-94d652166669",
   "metadata": {},
   "outputs": [],
   "source": [
    "missing_values = df.isnull().sum()"
   ]
  },
  {
   "cell_type": "code",
   "execution_count": 7,
   "id": "310ba67c-c1c9-4659-8d3a-ade42d9b48fe",
   "metadata": {},
   "outputs": [
    {
     "name": "stdout",
     "output_type": "stream",
     "text": [
      "\n",
      "Number of duplicate rows: 0\n"
     ]
    }
   ],
   "source": [
    "duplicates = df.duplicated().sum()\n",
    "print(f\"\\nNumber of duplicate rows: {duplicates}\")\n",
    "\n",
    "if duplicates > 0:\n",
    "    df = df.drop_duplicates()"
   ]
  },
  {
   "cell_type": "code",
   "execution_count": 32,
   "id": "e081f119-73d5-405c-b288-2951ff616498",
   "metadata": {},
   "outputs": [],
   "source": [
    "df['PaymentMethod'] = df['PaymentMethod'].str.strip().str.replace(' ', '_')\n",
    "df['Churn'] = df['Churn'].str.capitalize()\n",
    "df['TotalCharges'] = pd.to_numeric(df['TotalCharges'], errors=\"coerce\")\n",
    "df['tenure'] = df['tenure'].astype(int)"
   ]
  },
  {
   "cell_type": "code",
   "execution_count": 33,
   "id": "d8335cf7-d4a8-4e79-bc25-765f66b877c5",
   "metadata": {},
   "outputs": [],
   "source": [
    "service_columns = ['PhoneService', 'MultipleLines', 'OnlineSecurity', 'OnlineBackup',\n",
    "                   'DeviceProtection', 'TechSupport', 'StreamingTV', 'StreamingMovies']\n",
    "df['TotalServices'] = df[service_columns].apply(lambda row: (row == 'Yes').sum(), axis=1)"
   ]
  },
  {
   "cell_type": "code",
   "execution_count": 34,
   "id": "9ae58679-58c0-4b47-bbcc-bc2020e3e4e0",
   "metadata": {},
   "outputs": [],
   "source": [
    "df['AverageChargesperService'] = df[\"MonthlyCharges\"] / df['TotalServices'] "
   ]
  },
  {
   "cell_type": "code",
   "execution_count": 35,
   "id": "a7d43152-2d6c-40ef-bbb0-e7503f278bd9",
   "metadata": {},
   "outputs": [
    {
     "data": {
      "image/png": "[encoded data removed]",
      "text/plain": [
       "<Figure size 500x500 with 1 Axes>"
      ]
     },
     "metadata": {},
     "output_type": "display_data"
    }
   ],
   "source": [
    "sns.displot(df['AverageChargesperService'])\n",
    "plt.show()"
   ]
  },
  {
   "cell_type": "code",
   "execution_count": 36,
   "id": "bb355108-8be4-4209-a736-b1e478e362ce",
   "metadata": {},
   "outputs": [
    {
     "name": "stdout",
     "output_type": "stream",
     "text": [
      "\n",
      "Number of outliers in 'MonthlyCharges': 0\n"
     ]
    }
   ],
   "source": [
    "Q1 = df['MonthlyCharges'].quantile(0.25)\n",
    "Q3 = df['MonthlyCharges'].quantile(0.75)\n",
    "IQR = Q3 - Q1\n",
    "outliers = ((df['MonthlyCharges'] < (Q1 - 1.5 * IQR)) | (df['MonthlyCharges'] > (Q3 + 1.5 * IQR)))\n",
    "print(f\"\\nNumber of outliers in 'MonthlyCharges': {outliers.sum()}\")\n",
    "df = df[~outliers]"
   ]
  },
  {
   "cell_type": "code",
   "execution_count": 37,
   "id": "d5467561-c0c8-4d3b-8f62-505e20dba2b2",
   "metadata": {},
   "outputs": [],
   "source": [
    "from sklearn.preprocessing import MinMaxScaler\n",
    "scaler = MinMaxScaler()\n",
    "numerical_columns = ['MonthlyCharges', 'TotalCharges', 'tenure']\n",
    "df[numerical_columns] = scaler.fit_transform(df[numerical_columns])"
   ]
  }
 ],
 "metadata": {
  "kernelspec": {
   "display_name": "Python 3 (ipykernel)",
   "language": "python",
   "name": "python3"
  },
  "language_info": {
   "codemirror_mode": {
    "name": "ipython",
    "version": 3
   },
   "file_extension": ".py",
   "mimetype": "text/x-python",
   "name": "python",
   "nbconvert_exporter": "python",
   "pygments_lexer": "ipython3",
   "version": "3.10.2"
  }
 },
 "nbformat": 4,
 "nbformat_minor": 5
}
