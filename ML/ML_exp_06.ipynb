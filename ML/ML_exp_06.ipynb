{
 "cells": [
  {
   "cell_type": "code",
   "execution_count": null,
   "metadata": {},
   "outputs": [],
   "source": [
    "import gym\n",
    "import numpy as np\n",
    "from gym import Env\n",
    "from gym.spaces import Discrete, Box\n",
    "import random\n",
    "from tqdm.auto import tqdm"
   ]
  },
  {
   "cell_type": "code",
   "execution_count": null,
   "metadata": {},
   "outputs": [],
   "source": [
    "class TicTacToeEnv(Env):\n",
    "    def __init__(self):\n",
    "        self.state = [' ']*9\n",
    "        self.action_space = Discrete(9)\n",
    "        self.observation_space = Box(low=0, high=2, shape=(9,), dtype=int)\n",
    "        self.done = False\n",
    "\n",
    "    def reset(self):\n",
    "        self.state = [' ']*9\n",
    "        self.done = False\n",
    "        return self._get_obs()\n",
    "\n",
    "    def step(self, action):\n",
    "        if self.state[action] == ' ':\n",
    "            self.state[action] = 'X'  \n",
    "            if self._check_win('X'):\n",
    "                return self._get_obs(), 1, True, {}  \n",
    "            elif ' ' not in self.state:\n",
    "                return self._get_obs(), 0, True, {}  \n",
    "\n",
    "            opponent_action = random.choice([i for i, x in enumerate(self.state) if x == ' '])\n",
    "            self.state[opponent_action] = 'O'  \n",
    "            if self._check_win('O'):\n",
    "                return self._get_obs(), -1, True, {}  \n",
    "            elif ' ' not in self.state:\n",
    "                return self._get_obs(), 0, True, {}  \n",
    "\n",
    "        return self._get_obs(), 0, False, {}\n",
    "\n",
    "    def _get_obs(self):\n",
    "        return np.array([0 if x == ' ' else 1 if x == 'X' else 2 for x in self.state])\n",
    "\n",
    "    def _check_win(self, player):\n",
    "        win_states = [(0,1,2), (3,4,5), (6,7,8), (0,3,6), (1,4,7), (2,5,8), (0,4,8), (2,4,6)]\n",
    "        player_token = 'X' if player == 'X' else 'O'\n",
    "        return any(all(self.state[i] == player_token for i in win) for win in win_states)"
   ]
  },
  {
   "cell_type": "code",
   "execution_count": 4,
   "metadata": {},
   "outputs": [
    {
     "name": "stderr",
     "output_type": "stream",
     "text": [
      "Training Progress: 100%|██████████████████████████████████████████████████████████| 1000/1000 [00:02<00:00, 458.81it/s]\n"
     ]
    }
   ],
   "source": [
    "from tqdm import tqdm\n",
    "\n",
    "env = TicTacToeEnv()\n",
    "q_table = np.zeros((3**9, env.action_space.n))\n",
    "\n",
    "def encode_state(state):\n",
    "    return sum((state[i] * (3 ** i)) for i in range(9))\n",
    "\n",
    "alpha, gamma, epsilon = 0.1, 0.9, 1.0\n",
    "epsilon_decay = 0.995\n",
    "\n",
    "for episode in tqdm(range(1000), desc=\"Training Progress\"):\n",
    "    state = env.reset()\n",
    "    done = False\n",
    "    while not done:\n",
    "        state_encoded = encode_state(state)\n",
    "        if random.uniform(0, 1) < epsilon:\n",
    "            action = env.action_space.sample()  \n",
    "        else:\n",
    "            action = np.argmax(q_table[state_encoded])  \n",
    "\n",
    "        next_state, reward, done, _ = env.step(action)\n",
    "        next_state_encoded = encode_state(next_state)\n",
    "\n",
    "        q_table[state_encoded][action] += alpha * (reward + gamma * np.max(q_table[next_state_encoded]) - q_table[state_encoded][action])\n",
    "        state = next_state\n",
    "\n",
    "    epsilon *= epsilon_decay"
   ]
  },
  {
   "cell_type": "code",
   "execution_count": 7,
   "metadata": {},
   "outputs": [
    {
     "name": "stdout",
     "output_type": "stream",
     "text": [
      "Testing the agent's gameplay for a single instance:\n",
      "Agent's Action: 1\n",
      "  | X |  \n",
      "---------\n",
      "  |   | O\n",
      "---------\n",
      "  |   |  \n",
      "\n",
      "\n",
      "Reward: 0\n",
      "\n",
      "Agent's Action: 0\n",
      "X | X |  \n",
      "---------\n",
      "  |   | O\n",
      "---------\n",
      "O |   |  \n",
      "\n",
      "\n",
      "Reward: 0\n",
      "\n",
      "Agent's Action: 4\n",
      "X | X |  \n",
      "---------\n",
      "  | X | O\n",
      "---------\n",
      "O |   | O\n",
      "\n",
      "\n",
      "Reward: 0\n",
      "\n",
      "Agent's Action: 7\n",
      "X | X |  \n",
      "---------\n",
      "  | X | O\n",
      "---------\n",
      "O | X | O\n",
      "\n",
      "\n",
      "Reward: 1\n",
      "\n",
      "Testing completed.\n"
     ]
    }
   ],
   "source": [
    "def display_state(state):\n",
    "    board = [ 'X' if x == 1 else 'O' if x == 2 else ' ' for x in state ]\n",
    "    print(f\"{board[0]} | {board[1]} | {board[2]}\")\n",
    "    print(\"---------\")\n",
    "    print(f\"{board[3]} | {board[4]} | {board[5]}\")\n",
    "    print(\"---------\")\n",
    "    print(f\"{board[6]} | {board[7]} | {board[8]}\")\n",
    "    print(\"\\n\")\n",
    "\n",
    "state = env.reset()  \n",
    "done = False\n",
    "print(\"Testing the agent's gameplay for a single instance:\")\n",
    "\n",
    "while not done:\n",
    "    state_encoded = encode_state(state)\n",
    "    action = np.argmax(q_table[state_encoded])  \n",
    "    state, reward, done, _ = env.step(action)      \n",
    "    print(f\"Agent's Action: {action}\")\n",
    "    display_state(state)  \n",
    "    print(f\"Reward: {reward}\\n\")\n",
    "\n",
    "print(\"Testing completed.\")\n"
   ]
  }
 ],
 "metadata": {
  "kernelspec": {
   "display_name": "Python 3 (ipykernel)",
   "language": "python",
   "name": "python3"
  },
  "language_info": {
   "codemirror_mode": {
    "name": "ipython",
    "version": 3
   },
   "file_extension": ".py",
   "mimetype": "text/x-python",
   "name": "python",
   "nbconvert_exporter": "python",
   "pygments_lexer": "ipython3",
   "version": "3.10.2"
  }
 },
 "nbformat": 4,
 "nbformat_minor": 4
}
